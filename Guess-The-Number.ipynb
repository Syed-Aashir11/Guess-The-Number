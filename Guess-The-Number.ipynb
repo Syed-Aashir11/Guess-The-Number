{
 "cells": [
  {
   "cell_type": "code",
   "execution_count": 1,
   "id": "307e2216",
   "metadata": {},
   "outputs": [
    {
     "name": "stdout",
     "output_type": "stream",
     "text": [
      "Enter A Number From 1 To 100 75\n",
      "Guess Is High\n",
      "Enter A Number From 1 To 100 65\n",
      "Guess Is High\n",
      "Enter A Number From 1 To 100 43\n",
      "Guess Is High\n",
      "Enter A Number From 1 To 100 29\n",
      "Guess Is High\n",
      "Enter A Number From 1 To 100 22\n",
      "Guess Is High\n",
      "Enter A Number From 1 To 100 18\n",
      "Guess Is High\n",
      "Enter A Number From 1 To 100 16\n",
      "Guess Is High\n",
      "Enter A Number From 1 To 100 13\n",
      "Guess Is High\n",
      "Enter A Number From 1 To 100 10\n",
      "Guess Is High\n",
      "Enter A Number From 1 To 100 5\n",
      "Guess Is High\n",
      "Enter A Number From 1 To 100 2\n",
      "Guess Is Low\n",
      "Enter A Number From 1 To 100 4\n",
      "You Guessed It\n"
     ]
    }
   ],
   "source": [
    "import random\n",
    "n=random.randint(1,100)\n",
    "guess=int(input(\"Enter A Number From 1 To 100 \"))\n",
    "while n!=\"guess\":\n",
    "  if guess<n:\n",
    "    print(\"Guess Is Low\")\n",
    "    guess=int(input(\"Enter A Number From 1 To 100 \"))\n",
    "  elif guess>n:\n",
    "    print(\"Guess Is High\")\n",
    "    guess=int(input(\"Enter A Number From 1 To 100 \"))\n",
    "  else:\n",
    "    print(\"You Guessed It\")\n",
    "    break"
   ]
  },
  {
   "cell_type": "code",
   "execution_count": null,
   "id": "7ecc4230",
   "metadata": {},
   "outputs": [],
   "source": []
  }
 ],
 "metadata": {
  "kernelspec": {
   "display_name": "Python 3 (ipykernel)",
   "language": "python",
   "name": "python3"
  },
  "language_info": {
   "codemirror_mode": {
    "name": "ipython",
    "version": 3
   },
   "file_extension": ".py",
   "mimetype": "text/x-python",
   "name": "python",
   "nbconvert_exporter": "python",
   "pygments_lexer": "ipython3",
   "version": "3.8.9"
  }
 },
 "nbformat": 4,
 "nbformat_minor": 5
}
